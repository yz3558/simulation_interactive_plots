{
 "cells": [
  {
   "cell_type": "code",
   "execution_count": 1,
   "metadata": {},
   "outputs": [],
   "source": [
    "import numpy as np\n",
    "import plotly.graph_objs as go \n",
    "from ipywidgets import widgets\n",
    "import matplotlib.pyplot as plt\n",
    "import scipy.stats as spst\n"
   ]
  },
  {
   "cell_type": "code",
   "execution_count": 2,
   "metadata": {},
   "outputs": [
    {
     "data": {
      "text/plain": [
       "[<matplotlib.lines.Line2D at 0x24c1d478358>]"
      ]
     },
     "execution_count": 2,
     "metadata": {},
     "output_type": "execute_result"
    },
    {
     "data": {
      "image/png": "[encoded data removed]",
      "text/plain": [
       "<Figure size 432x288 with 1 Axes>"
      ]
     },
     "metadata": {
      "needs_background": "light"
     },
     "output_type": "display_data"
    }
   ],
   "source": [
    "t=np.linspace(0,6,1000)\n",
    "Lmbda_n=(-t**3 + 15*t**2/2 + 20*t)/50\n",
    "\n",
    " \n",
    "\n",
    "lmbda_m=(-3*t*(t-5)+20)/50\n",
    "plt.plot(t,lmbda_m)"
   ]
  },
  {
   "cell_type": "code",
   "execution_count": null,
   "metadata": {},
   "outputs": [],
   "source": []
  },
  {
   "cell_type": "code",
   "execution_count": 46,
   "metadata": {},
   "outputs": [
    {
     "data": {
      "application/vnd.jupyter.widget-view+json": {
       "model_id": "f8a600b89c674274916dffeb86cbd74b",
       "version_major": 2,
       "version_minor": 0
      },
      "text/plain": [
       "VBox(children=(HBox(children=(Button(description='next arrival', style=ButtonStyle()), Button(description='cle…"
      ]
     },
     "metadata": {},
     "output_type": "display_data"
    }
   ],
   "source": [
    "\n",
    "\n",
    "next_arrival=widgets.Button(\n",
    "    description=\"next arrival\")\n",
    "\n",
    "clear=widgets.Button(\n",
    "    description=\"clear\")\n",
    "\n",
    "\n",
    "\n",
    "t=np.linspace(0,6,1000)\n",
    "Lmbda_n=(-t**3 + 15*t**2/2 + 20*t)/50\n",
    "\n",
    "arrival_t=np.array([])\n",
    "homo_t=np.array([])\n",
    "\n",
    "lmbda_m=np.max(-3*t*(t-5)+20)/50\n",
    "tr=0\n",
    " \n",
    "\n",
    "trace1=go.Scatter(x=t,y=Lmbda_n,name=\"\\u039B(t)\" ,mode=\"lines\",line=dict(\n",
    "    color=\"green\", dash='dash',width=1),hoverinfo='skip')\n",
    "\n",
    "trace2=go.Scatter(x=[0,6],y=[0,0],name=\"arrival times\" ,mode=\"lines\",line=dict(\n",
    "    color=\"gray\", dash='solid',width=10),hoverinfo='skip')\n",
    "\n",
    "trace3=go.Scatter(x=[0,0],y=[0,5],name=\"expected number of arrivals  \" ,mode=\"lines\",line=dict(\n",
    "    color=\"gray\", dash='solid',width=10),hoverinfo='skip')\n",
    "\n",
    "trace4=go.Scatter(x=[],y=[],name=\"arrivals\" ,hoverinfo=\"skip\", text=\"\",mode=\"markers\",marker=dict(\n",
    "    color=\"blue\", size=10))\n",
    "trace5=go.Scatter(x=[],y=[],name=\"E(#arrivals)/homo arrival time\" ,hoverinfo=\"skip\", text=\"\",mode=\"markers\",marker=dict(\n",
    "    color=\"yellow\", size=10))\n",
    "trace6=go.Scatter(x=[],y=[],name=\"\" ,hoverinfo=\"text\", text=\"\",mode=\"markers\",marker=dict(\n",
    "    color=\"black\", size=8))\n",
    "\n",
    "\n",
    "g = go.FigureWidget(data=[trace1,trace2,trace3,trace4,trace5,trace6],\n",
    "                    \n",
    "                        layout=go.Layout(\n",
    "                        hovermode=\"closest\",\n",
    "                            xaxis={'showspikes': True},\n",
    "                            yaxis={'showspikes': True},\n",
    "                        title=dict(\n",
    "                        text=\"inversion method\",\n",
    "                        ),\n",
    "                        \n",
    "                        margin={'l': 0, 'r': 0, 't': 0, 'b': 0},width=800, height=300  )\n",
    "                   )\n",
    " \n",
    "\n",
    "g.update_layout( \n",
    "                     title_x=0.5,\n",
    "                 title_y=0.9,\n",
    "                  \n",
    "                xaxis=dict(range=[-1,7] ),\n",
    "                yaxis=dict(range=[-0.1,5]),\n",
    "                 legend=dict(\n",
    "                    x=1.1,\n",
    "                    y=0.7,\n",
    "                    traceorder=\"normal\",\n",
    "                    font=dict(\n",
    "                        family=\"sans-serif\",\n",
    "                        size=12,\n",
    "                        color=\"black\"\n",
    "                    ))\n",
    "           \n",
    ")\n",
    "      \n",
    "    \n",
    " \n",
    "    \n",
    "    \n",
    "def response1(change):\n",
    "    global tr,arrival_t, homo_t,next_proposal\n",
    " \n",
    "    keep=False\n",
    "    while keep==False:\n",
    "        tr=tr-1/lmbda_m*np.log(np.random.rand())\n",
    "        \n",
    "        if tr>6:\n",
    "            next_arrival.disabled=True \n",
    "            return\n",
    "        ar=(-3*tr*(tr-5)+20)/lmbda_m/50\n",
    "        keep=np.random.rand()<ar\n",
    "    arrival_t=np.append(arrival_t,tr)\n",
    "    \n",
    "    homo_t=np.append(homo_t,(-tr**3 + 15*tr**2/2 + 20*tr)/50)\n",
    "     \n",
    "    with g.batch_update():\n",
    "            g.data[3].y=np.repeat(0,len(arrival_t))\n",
    "            g.data[3].x=arrival_t\n",
    "            g.data[4].x=np.repeat(0,len(arrival_t))\n",
    "            g.data[4].y=homo_t\n",
    "            g.data[5].x=arrival_t\n",
    "            g.data[5].y=homo_t\n",
    " \n",
    "        \n",
    "def response2(change):\n",
    "    global  tr,arrival_t, homo_t,next_proposal,trace1,trace2,trace3,trace4,trace5,g\n",
    "    tr=0\n",
    "    arrival_t=np.array([])\n",
    "    homo_t=np.array([])\n",
    "    next_arrival.disabled=False\n",
    "    with g.batch_update():\n",
    "        g.data = [g.data[0]]\n",
    "        g.add_trace(trace2)\n",
    "        g.add_trace(trace3)\n",
    "        g.add_trace(trace4)\n",
    "        g.add_trace(trace5)\n",
    "        g.add_trace(trace6)\n",
    "        g.update_layout( \n",
    "                     title_x=0.5,\n",
    "                 title_y=0.9,\n",
    "                xaxis=dict(range=[-1,7] ),\n",
    "                yaxis=dict(range=[-0.1,5]),\n",
    "                 legend=dict(\n",
    "                    x=1.1,\n",
    "                    y=0.7,\n",
    "                    traceorder=\"normal\",\n",
    "                    font=dict(\n",
    "                        family=\"sans-serif\",\n",
    "                        size=12,\n",
    "                        color=\"black\"\n",
    "                    ))\n",
    "                   \n",
    "        )\n",
    "\n",
    "    \n",
    "next_arrival.on_click(response1)\n",
    "clear.on_click(response2)\n",
    "\n",
    "\n",
    "container1 = widgets.HBox([next_arrival,clear]) \n",
    " \n",
    "widget1=widgets.HBox([g ])\n",
    "Widget=widgets.VBox([container1,widget1] )\n",
    "Widget"
   ]
  },
  {
   "cell_type": "code",
   "execution_count": null,
   "metadata": {},
   "outputs": [],
   "source": []
  },
  {
   "cell_type": "code",
   "execution_count": null,
   "metadata": {},
   "outputs": [],
   "source": []
  },
  {
   "cell_type": "code",
   "execution_count": null,
   "metadata": {},
   "outputs": [],
   "source": []
  }
 ],
 "metadata": {
  "kernelspec": {
   "display_name": "Python 3",
   "language": "python",
   "name": "python3"
  },
  "language_info": {
   "codemirror_mode": {
    "name": "ipython",
    "version": 3
   },
   "file_extension": ".py",
   "mimetype": "text/x-python",
   "name": "python",
   "nbconvert_exporter": "python",
   "pygments_lexer": "ipython3",
   "version": "3.6.10"
  }
 },
 "nbformat": 4,
 "nbformat_minor": 4
}
