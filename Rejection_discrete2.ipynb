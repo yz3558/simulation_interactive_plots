{
 "cells": [
  {
   "cell_type": "code",
   "execution_count": 1,
   "metadata": {},
   "outputs": [],
   "source": [
    "import numpy as np\n",
    "import matplotlib.pyplot as plt\n",
    "import scipy.special as spsp\n",
    "\n",
    "import scipy.stats as spst\n",
    "%matplotlib inline\n",
    " "
   ]
  },
  {
   "cell_type": "code",
   "execution_count": 2,
   "metadata": {},
   "outputs": [
    {
     "data": {
      "application/vnd.jupyter.widget-view+json": {
       "model_id": "7d72c2675f4b4fc5bc9e23d214cd9f29",
       "version_major": 2,
       "version_minor": 0
      },
      "text/plain": [
       "VBox(children=(FloatSlider(value=0.9, continuous_update=False, max=0.99, min=0.01, step=0.01), FigureWidget({\n",
       "…"
      ]
     },
     "metadata": {},
     "output_type": "display_data"
    }
   ],
   "source": [
    " \n",
    "#coding for this cell is not required \n",
    "import plotly.graph_objs as go \n",
    "from ipywidgets import widgets\n",
    " \n",
    "\n",
    "\n",
    "    \n",
    "p_value=widgets.FloatSlider(\n",
    "    value=0.9,\n",
    "    min=0.01,\n",
    "    max=0.99,\n",
    "    step=0.01,\n",
    "    describe=\"p\",\n",
    "    disabled=False,\n",
    "    continuous_update=False,\n",
    "    orientation='horizontal',\n",
    "    readout=True,\n",
    "    readout_format='.2f',\n",
    ")\n",
    "\n",
    "p=p_value.value\n",
    "Outcomes_P=np.arange(10)\n",
    "PMF_P=(1-p)**Outcomes_P*p   \n",
    "\n",
    "Outcomes_T=np.arange(10)\n",
    "PMF_T=np.array([0.4,0.25,0.15,0.1,0.05,0.05,0,0,0,0])\n",
    "\n",
    "c=np.max(PMF_T/PMF_P)\n",
    "\n",
    "trace1=go.Bar(x=Outcomes_T,y=PMF_T, \n",
    "              hoverinfo=\"text\",text=np.round(PMF_T,3),name=\"Target distribution\"+' '*10    )\n",
    "\n",
    "trace2= go.Bar(x=Outcomes_P,y=PMF_P, \n",
    "              hoverinfo=\"text\",text=np.round(PMF_P,3),name=\"Proposal distribution\"+' '*10   )\n",
    "\n",
    "\n",
    "g = go.FigureWidget(data=[trace1,trace2],\n",
    "                        layout=go.Layout(\n",
    "                        title=dict(\n",
    "                        text='rejection sampling with p='+str(p_value.value)+\"and c=\"+str(np.round(c,2)),\n",
    "                        ),\n",
    "                        hovermode=None,\n",
    "                        margin={'l': 0, 'r': 0, 't': 0, 'b': 0},width=1000, height=400  ),\n",
    "\n",
    "                   )\n",
    "g.update_layout(barmode='group',\n",
    "                     title_x=0.5,\n",
    "                 title_y=0.9,\n",
    "                yaxis=dict(range=[0,1]),\n",
    "                 legend=dict(\n",
    "\n",
    "                    x=0.7,\n",
    "                    y=0.7,\n",
    "                    traceorder=\"normal\",\n",
    "                    font=dict(\n",
    "                        family=\"sans-serif\",\n",
    "                        size=12,\n",
    "                        color=\"black\"\n",
    "                    ))\n",
    "                   \n",
    ")\n",
    "        \n",
    "def response1(change):\n",
    "    \n",
    "    p=p_value.value\n",
    "\n",
    "    PMF_P=(1-p)** Outcomes_P*p   \n",
    "\n",
    "    c=np.max(PMF_T/PMF_P)\n",
    "    with g.batch_update():\n",
    "        g.data[1].y=PMF_P\n",
    "        g.layout.title.text='rejection sampling with p='+str(p_value.value)+\"and c=\"+str(np.round(c,2))\n",
    "        g.data[1].text=np.round(PMF_P,3)\n",
    "        g.data[0].text=np.round(PMF_T,3)\n",
    " \n",
    " \n",
    "p_value.observe(response1,names=\"value\")\n",
    "\n",
    "\n",
    " \n",
    "\n",
    "Widget1=widgets.VBox([p_value,g] )\n",
    "Widget1"
   ]
  },
  {
   "cell_type": "code",
   "execution_count": null,
   "metadata": {},
   "outputs": [],
   "source": []
  }
 ],
 "metadata": {
  "kernelspec": {
   "display_name": "Python 3",
   "language": "python",
   "name": "python3"
  },
  "language_info": {
   "codemirror_mode": {
    "name": "ipython",
    "version": 3
   },
   "file_extension": ".py",
   "mimetype": "text/x-python",
   "name": "python",
   "nbconvert_exporter": "python",
   "pygments_lexer": "ipython3",
   "version": "3.6.10"
  }
 },
 "nbformat": 4,
 "nbformat_minor": 4
}
