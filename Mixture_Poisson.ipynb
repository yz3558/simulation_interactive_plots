{
 "cells": [
  {
   "cell_type": "code",
   "execution_count": 1,
   "metadata": {},
   "outputs": [
    {
     "name": "stdout",
     "output_type": "stream",
     "text": [
      "Requirement already satisfied: plotly in c:\\users\\yi zhang\\anaconda3\\lib\\site-packages (4.10.0)\n",
      "Requirement already satisfied: six in c:\\users\\yi zhang\\anaconda3\\lib\\site-packages (from plotly) (1.15.0)\n",
      "Requirement already satisfied: retrying>=1.3.3 in c:\\users\\yi zhang\\anaconda3\\lib\\site-packages (from plotly) (1.3.3)\n"
     ]
    }
   ],
   "source": [
    "import numpy as np\n",
    "import matplotlib.pyplot as plt\n",
    "import scipy.stats as spst\n",
    "\n",
    "from ipywidgets import widgets\n",
    "!pip install plotly\n",
    "import plotly.graph_objs as go \n",
    "%matplotlib inline"
   ]
  },
  {
   "cell_type": "code",
   "execution_count": 2,
   "metadata": {},
   "outputs": [
    {
     "data": {
      "application/vnd.jupyter.widget-view+json": {
       "model_id": "3b4b3845fe354ebd93639d9607a43a68",
       "version_major": 2,
       "version_minor": 0
      },
      "text/plain": [
       "VBox(children=(VBox(children=(FloatSlider(value=0.0, continuous_update=False, max=1.0, readout_format='.1f', s…"
      ]
     },
     "metadata": {},
     "output_type": "display_data"
    }
   ],
   "source": [
    "\n",
    "p_value=widgets.FloatSlider(\n",
    "    value=0.0,\n",
    "    min=0.0,\n",
    "    max=1.0,\n",
    "    step=0.01,\n",
    "    disabled=False,\n",
    "    discription=\"p\",\n",
    "    continuous_update=False,\n",
    "    orientation='horizontal',\n",
    "    readout=True,\n",
    "    readout_format='.1f',\n",
    ")\n",
    "\n",
    "steps=widgets.ToggleButtons(\n",
    "   # value=False,\n",
    "    #description='Click me',\n",
    "   # disabled=False,\n",
    "    options=[\"complete PMF\",\"decompose\"],\n",
    "    #button_style='', # 'success', 'info', 'warning', 'danger' or ''\n",
    "    tooltip='Description',\n",
    "    icon='check' # (FontAwesome names without the `fa-` prefix)\n",
    ")\n",
    "\n",
    "x=np.arange(20)\n",
    "def pmf_update(p):\n",
    "    x=np.arange(20)\n",
    "    pmf_1=spst.poisson.pmf(x,1)\n",
    "    pmf_2=spst.poisson.pmf(x,10)\n",
    "    pmf=pmf_1*p+pmf_2*(1-p)\n",
    "    return pmf, pmf_1*p,pmf_2*(1-p)\n",
    "pmf,pmf1w,pmf2w=pmf_update(0)\n",
    "\n",
    "trace1=go.Bar(x=x,y=pmf, \n",
    "              hoverinfo=\"text\",text=\"\",name=\"mixed PMF\"+\" \"*10 , width=0.8 )\n",
    "trace2=go.Bar(x=x,y=pmf1w, \n",
    "              hoverinfo=\"text\",text=\"\",name=\"PMF1 component\"  , width=0.8 )\n",
    "trace3=go.Bar(x=x,y=pmf2w, \n",
    "              hoverinfo=\"text\",text=\"\",name=\"PMF2 component\"  , width=0.8 )\n",
    "\n",
    "g = go.FigureWidget(data=[trace1],\n",
    "                        layout=go.Layout(\n",
    "                        xaxis = dict(title = \" x values\", range = [-0.5,20.5],showticklabels=True),\n",
    "                        yaxis = dict(title = \"probability\", range = [-.1,0.4]),\n",
    "                        hovermode=None,\n",
    "                        margin={'l': 0, 'r': 0, 't': 50, 'b': 0},width=400, height=300  ),\n",
    "                   )\n",
    "g.update_layout(barmode=\"stack\",\n",
    "                showlegend=False,\n",
    "                title=dict(text='mixture distribution', x=0.5,y=0.9))\n",
    "def response1(change):\n",
    "    pmf,pmf1w,pmf2w=pmf_update(p_value.value)\n",
    "    if steps.value==\"complete PMF\":\n",
    "        with g.batch_update():\n",
    "            g.data[0].y=pmf\n",
    "    else:\n",
    "        with g.batch_update():\n",
    "            g.data[0].y=pmf1w\n",
    "            g.data[1].y=pmf2w\n",
    "\n",
    "def response2(change):\n",
    "    pmf,pmf1w,pmf2w=pmf_update(p_value.value)\n",
    "    if steps.value==\"complete PMF\":\n",
    "        with g.batch_update():\n",
    "            g.data=[g.data[0]]\n",
    "            response1(change)\n",
    "    else:\n",
    "        with g.batch_update():\n",
    "            g.data=[]\n",
    "            trace2.y=pmf1w\n",
    "            trace3.y=pmf2w\n",
    "            g.add_trace(trace2)\n",
    "            g.add_trace(trace3)\n",
    "\n",
    "container1 = widgets.VBox([p_value,steps]) \n",
    "p_value.observe(response1,names=\"value\")\n",
    "steps.observe(response2,names=\"value\")\n",
    "\n",
    "Widget1=widgets.VBox([container1,g] )\n",
    "Widget1\n"
   ]
  },
  {
   "cell_type": "code",
   "execution_count": null,
   "metadata": {},
   "outputs": [],
   "source": []
  }
 ],
 "metadata": {
  "kernelspec": {
   "display_name": "Python 3",
   "language": "python",
   "name": "python3"
  },
  "language_info": {
   "codemirror_mode": {
    "name": "ipython",
    "version": 3
   },
   "file_extension": ".py",
   "mimetype": "text/x-python",
   "name": "python",
   "nbconvert_exporter": "python",
   "pygments_lexer": "ipython3",
   "version": "3.6.10"
  }
 },
 "nbformat": 4,
 "nbformat_minor": 4
}
