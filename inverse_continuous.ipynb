{
 "cells": [
  {
   "cell_type": "code",
   "execution_count": 9,
   "metadata": {},
   "outputs": [],
   "source": [
    "import numpy as np\n",
    "import plotly.graph_objs as go\n",
    "from ipywidgets import *\n",
    "import scipy.stats as spst\n",
    "\n",
    "from matplotlib.collections import LineCollection\n",
    "import scipy.stats as spst\n",
    "import matplotlib.pyplot as plt\n",
    "%matplotlib inline\n",
    "\n",
    "def cdf_x1(lmbda,CDF):\n",
    "    #x=-1/lmbda*np.log(1-CDF)\n",
    "    x=spst.expon.ppf(CDF,scale=1/lmbda)\n",
    "    x_array=np.linspace(0,10,1000)\n",
    "    cdf_array=1-np.exp(-lmbda*x_array)\n",
    "    plt.plot(x_array,cdf_array)\n",
    "    plt.ylim((0,1.1))\n",
    "    plt.xlim((-1,5))\n",
    "    plt.hlines(CDF,-1,xmax=x)\n",
    "    plt.text(s=str(CDF),y=CDF+0.02,x=-1)\n",
    "    plt.text(s=str(np.round(x,2)),y=0.02,x=x+0.1,rotation=\"vertical\")\n",
    "    plt.title(\"exponential distribution\")\n",
    "    plt.vlines(x,0,ymax=CDF)\n",
    "    plt.xlabel(\"x value\")\n",
    "    plt.ylabel(\"cdf value\")\n",
    "    \n",
    "def cdf_x2(a,length,CDF):\n",
    "    #x=-1/lmbda*np.log(1-CDF)\n",
    "    x=length*CDF+a\n",
    "    x_array=np.linspace(0,10,1000)\n",
    "    cdf_array=(x_array-a)/length\n",
    "    cdf_array[x_array>a+length]=1\n",
    "    plt.plot(x_array,cdf_array)\n",
    "    plt.ylim((0,1.1))\n",
    "    plt.xlim((-1,5))\n",
    "    plt.hlines(CDF,-1,xmax=x)\n",
    "    plt.text(s=str(CDF),y=CDF+0.02,x=-1)\n",
    "    plt.text(s=str(np.round(x,2)),y=0.02,x=x+0.1,rotation=\"vertical\")\n",
    "    plt.title(\"uniform distribution\")\n",
    "    plt.vlines(x,0,ymax=CDF)\n",
    "    plt.xlabel(\"x value\")\n",
    "    plt.ylabel(\"cdf value\")\n",
    " "
   ]
  },
  {
   "cell_type": "markdown",
   "metadata": {},
   "source": [
    "$x$ versus $CDF(x)$ for an exponential distribution"
   ]
  },
  {
   "cell_type": "code",
   "execution_count": 10,
   "metadata": {},
   "outputs": [
    {
     "data": {
      "application/vnd.jupyter.widget-view+json": {
       "model_id": "eaa7a0baa5bb400ca890205a41f56269",
       "version_major": 2,
       "version_minor": 0
      },
      "text/plain": [
       "interactive(children=(FloatSlider(value=1.4, description='$\\\\lambda$', max=3.0, min=1.0), FloatSlider(value=0.…"
      ]
     },
     "metadata": {},
     "output_type": "display_data"
    }
   ],
   "source": [
    "\n",
    "interactive(cdf_x1, lmbda=FloatSlider(min=1,max=3,step=0.1, value=1.4,\\\n",
    "                                     description='$\\lambda$' ),\\\n",
    "            CDF=FloatSlider(min=0.01,max=0.99,step=0.01, value=0.4 ), )\n",
    "    "
   ]
  },
  {
   "cell_type": "markdown",
   "metadata": {},
   "source": [
    "$x$ versus $CDF(x)$ for a uniform dsitribution"
   ]
  },
  {
   "cell_type": "code",
   "execution_count": 11,
   "metadata": {},
   "outputs": [
    {
     "data": {
      "application/vnd.jupyter.widget-view+json": {
       "model_id": "3e552d9e66104fbdb7eeb0f5a3db0826",
       "version_major": 2,
       "version_minor": 0
      },
      "text/plain": [
       "interactive(children=(FloatSlider(value=1.4, description='a', max=2.0, min=1.0), FloatSlider(value=1.4, descri…"
      ]
     },
     "metadata": {},
     "output_type": "display_data"
    }
   ],
   "source": [
    "interactive(cdf_x2, a=FloatSlider(min=1,max=2,step=0.1, value=1.4,\\\n",
    "                                     description='a' ),\n",
    "            length=FloatSlider(min=0,max=3,step=0.1, value=1.4,\\\n",
    "                                     description='b-a' ),\\\n",
    "            CDF=FloatSlider(min=0.01,max=0.99,step=0.01, value=0.4 ), )\n",
    "    "
   ]
  },
  {
   "cell_type": "code",
   "execution_count": null,
   "metadata": {},
   "outputs": [],
   "source": []
  }
 ],
 "metadata": {
  "kernelspec": {
   "display_name": "Python 3",
   "language": "python",
   "name": "python3"
  },
  "language_info": {
   "codemirror_mode": {
    "name": "ipython",
    "version": 3
   },
   "file_extension": ".py",
   "mimetype": "text/x-python",
   "name": "python",
   "nbconvert_exporter": "python",
   "pygments_lexer": "ipython3",
   "version": "3.6.10"
  }
 },
 "nbformat": 4,
 "nbformat_minor": 4
}
